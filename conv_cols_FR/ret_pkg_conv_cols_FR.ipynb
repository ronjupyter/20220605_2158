{
 "cells": [
  {
   "cell_type": "markdown",
   "metadata": {},
   "source": [
    "### imports and load data"
   ]
  },
  {
   "cell_type": "code",
   "execution_count": 18,
   "metadata": {},
   "outputs": [],
   "source": [
    "import pandas as pd\n",
    "import numpy\n",
    "import datetime\n",
    "import math\n",
    "import io\n",
    "\n",
    "from google.colab import files\n",
    "uploaded = files.upload()"
   ]
  },
  {
   "cell_type": "code",
   "execution_count": 19,
   "metadata": {},
   "outputs": [
    {
     "data": {
      "text/html": [
       "<div><div id=43fd5597-faf0-45dd-8475-3ba5b2a84fff style=\"display:none; background-color:#9D6CFF; color:white; width:200px; height:30px; padding-left:5px; border-radius:4px; flex-direction:row; justify-content:space-around; align-items:center;\" onmouseover=\"this.style.backgroundColor='#BA9BF8'\" onmouseout=\"this.style.backgroundColor='#9D6CFF'\" onclick=\"window.commands?.execute('create-mitosheet-from-dataframe-output');\">See Full Dataframe in Mito</div> <script> if (window.commands?.hasCommand('create-mitosheet-from-dataframe-output')) document.getElementById('43fd5597-faf0-45dd-8475-3ba5b2a84fff').style.display = 'flex' </script> <table border=\"1\" class=\"dataframe\">\n",
       "  <thead>\n",
       "    <tr style=\"text-align: right;\">\n",
       "      <th></th>\n",
       "      <th>id</th>\n",
       "      <th>DoB</th>\n",
       "      <th>DoT</th>\n",
       "      <th>amt</th>\n",
       "      <th>province</th>\n",
       "      <th>Pensionable Service***:</th>\n",
       "    </tr>\n",
       "  </thead>\n",
       "  <tbody>\n",
       "    <tr>\n",
       "      <th>0</th>\n",
       "      <td>1</td>\n",
       "      <td>1996-02-24 00:00:00</td>\n",
       "      <td>1997-01-30</td>\n",
       "      <td>123.45</td>\n",
       "      <td>Ontario</td>\n",
       "      <td>1.04650</td>\n",
       "    </tr>\n",
       "    <tr>\n",
       "      <th>1</th>\n",
       "      <td>2</td>\n",
       "      <td>1997-05-22 00:00:00</td>\n",
       "      <td>2003-08-19</td>\n",
       "      <td>1234.34</td>\n",
       "      <td>Quebec</td>\n",
       "      <td>22.44558</td>\n",
       "    </tr>\n",
       "    <tr>\n",
       "      <th>2</th>\n",
       "      <td>3</td>\n",
       "      <td>1999-04-17 00:00:00</td>\n",
       "      <td>1997-08-09</td>\n",
       "      <td>23234.56</td>\n",
       "      <td>Newfoundland and Labrador</td>\n",
       "      <td>9.75409</td>\n",
       "    </tr>\n",
       "  </tbody>\n",
       "</table></div>"
      ],
      "text/plain": [
       "   id                  DoB        DoT       amt                   province  \\\n",
       "0   1  1996-02-24 00:00:00 1997-01-30    123.45                    Ontario   \n",
       "1   2  1997-05-22 00:00:00 2003-08-19   1234.34                     Quebec   \n",
       "2   3  1999-04-17 00:00:00 1997-08-09  23234.56  Newfoundland and Labrador   \n",
       "\n",
       "   Pensionable Service***:  \n",
       "0                  1.04650  \n",
       "1                 22.44558  \n",
       "2                  9.75409  "
      ]
     },
     "execution_count": 19,
     "metadata": {},
     "output_type": "execute_result"
    }
   ],
   "source": [
    "df = pd.read_excel(io.BytesIO(uploaded['calculation.xlsm']),sheet_name='from_calc_sheet')\n",
    "df.head(3)"
   ]
  },
  {
   "cell_type": "markdown",
   "metadata": {},
   "source": [
    "### assignments and functions"
   ]
  },
  {
   "cell_type": "code",
   "execution_count": 20,
   "metadata": {},
   "outputs": [],
   "source": [
    "lookup = {1: 'janvier', 2: 'février', 3: 'mars', 4: 'avril', 5: 'mai',\n",
    "          6: 'juin', 7: 'juillet', 8: 'août', 9: 'septembre', 10: 'octobre', 11: 'novembre', 12: 'décembre'}\n",
    "\n",
    "fr_prov_dict = {'British Columbia': 'Colombie-Britannique',\n",
    "                'Did Not Work in ON or NS': \"N'a pas travaillé en Ontario ou en Nouvelle-Écosse\",\n",
    "                \"New Brunswick\": 'Nouveau-Brunswick',\n",
    "                'Nova Scotia': 'Nouvelle-Écosse',\n",
    "                'Quebec': 'Québec',\n",
    "                'Newfoundland and Labrador': 'Terre-Neuve-et-Labrador',\n",
    "                'Newfoundland':'Terre-Neuve-et-Labrador',\n",
    "                'Prince Edward Island': 'Île-du-Prince-Édouard',\n",
    "                'Northwest Territories': 'Les Territoires du Nord-Ouest',\n",
    "                'Defined Contribution': 'Cotisations Déterminée'}\n",
    "\n",
    "\n",
    "def translate_provinces(t_prov_str):\n",
    "    for key in fr_prov_dict.keys():\n",
    "        t_prov_str = t_prov_str.replace(key, fr_prov_dict[key])\n",
    "\n",
    "    return t_prov_str\n",
    "\n",
    "\n",
    "def conv_date(t_date):\n",
    "    if type(t_date) != datetime.datetime and type(t_date) != pd._libs.tslibs.timestamps.Timestamp:\n",
    "        return \"\"\n",
    "    else:\n",
    "        return_str = str(t_date.day) + ' ' + \\\n",
    "            lookup[t_date.month] + ' ' + str(t_date.year)\n",
    "        return return_str\n",
    "\n",
    "\n",
    "def fix_round(num, position=0):\n",
    "    '''fixes rounding \"error\" in py - may not be accurate w/ extremely precise numbers such as 0.49999999999999998\n",
    "\n",
    "        params:\n",
    "        num (float/int): number to round\n",
    "        position (int): default is 0\n",
    "\n",
    "        returns rounded result\n",
    "\n",
    "    '''\n",
    "\n",
    "    if type(num) != float and type(num) != int and type(num) != numpy.float:\n",
    "        return 0.00\n",
    "\n",
    "    multiplier = 10**position\n",
    "    num = multiplier * num\n",
    "\n",
    "    try:\n",
    "        after_decimal = str(num).split('.')[1]\n",
    "    except:\n",
    "        return (num/multiplier)\n",
    "\n",
    "    if after_decimal == '5':\n",
    "        if num > 0:\n",
    "            x = math.ceil(num)\n",
    "            return (round((x)/multiplier, position))\n",
    "        if num < 0:\n",
    "            x = math.floor(num)\n",
    "            return (round((x)/multiplier, position))\n",
    "    else:\n",
    "        return (round(num/multiplier, position))\n",
    "\n",
    "\n",
    "def conv_curr(t_amt, dec_places=2, dollar_sign=True):\n",
    "    t_str = str(fix_round(t_amt, dec_places))\n",
    "    t_list = t_str.split('.')\n",
    "\n",
    "    before_dec = t_list[0]\n",
    "\n",
    "    before_dec_list = [before_dec[0:len(before_dec) % 3]] + [before_dec[i:i+3]\n",
    "                                                             for i in range(len(before_dec) % 3, len(before_dec), 3)]\n",
    "\n",
    "    before_dec_str = ' '.join(before_dec_list)\n",
    "\n",
    "    while len(t_list[1]) < dec_places:\n",
    "        t_list[1] += '0'\n",
    "\n",
    "    if dollar_sign == True:\n",
    "        return_str = before_dec_str + ',' + t_list[1] + ' $'\n",
    "    else:\n",
    "        return_str = before_dec_str + ',' + t_list[1]\n",
    "        \n",
    "    return return_str.strip()\n"
   ]
  },
  {
   "cell_type": "markdown",
   "metadata": {},
   "source": [
    "### user input"
   ]
  },
  {
   "cell_type": "code",
   "execution_count": 21,
   "metadata": {},
   "outputs": [],
   "source": [
    "date_col_list_input = ['today',\n",
    "                        'Member’s Date of Birth',\n",
    "                        'Date of Hire',\n",
    "                        'Date of Entry',\n",
    "                        'Spouse’s Date of Birth',\n",
    "                        'norm_ret_date',\n",
    "                        'eurd',\n",
    "                        'calc_date',\n",
    "                        'DB Date of Termination']\n",
    "curr_col_list_input = ['best_avg_earnings',\n",
    "                        'earliest_unreduced_amt', 'op3']\n",
    "round_to_dec_list_input = [\n",
    "    'age_at_actual_ret_date', 'Total Credited Service']\n",
    "prov_col_list_input = ['*** Final Province of Employment (DB or DC) ***']"
   ]
  },
  {
   "cell_type": "markdown",
   "metadata": {},
   "source": [
    "### run and output"
   ]
  },
  {
   "cell_type": "code",
   "execution_count": 22,
   "metadata": {},
   "outputs": [
    {
     "name": "stderr",
     "output_type": "stream",
     "text": [
      "C:\\Users\\ronal\\AppData\\Local\\Temp/ipykernel_10648/2518931237.py:44: DeprecationWarning: `np.float` is a deprecated alias for the builtin `float`. To silence this warning, use `float` by itself. Doing this will not modify any behavior and is safe. If you specifically wanted the numpy scalar type, use `np.float64` here.\n",
      "Deprecated in NumPy 1.20; for more details and guidance: https://numpy.org/devdocs/release/1.20.0-notes.html#deprecations\n",
      "  if type(num) != float and type(num) != int and type(num) != numpy.float:\n"
     ]
    }
   ],
   "source": [
    "for col in round_to_dec_list_input:\n",
    "    df[col] = df[col].fillna(0)\n",
    "    df[col] = df[col].apply(conv_curr, dec_places=5, dollar_sign=False)\n",
    "\n",
    "for col in curr_col_list_input:\n",
    "    df[col] = df[col].fillna(0)\n",
    "    df[col] = df[col].apply(conv_curr)\n",
    "\n",
    "for col in date_col_list_input:\n",
    "    df[col] = df[col].apply(conv_date)\n",
    "\n",
    "for col in prov_col_list_input:\n",
    "    df[col] = df[col].fillna(\"\")\n",
    "    df[col] = df[col].apply(translate_provinces)\n",
    "\n",
    "df.to_excel('test_out.xlsx', index=False)\n",
    "files.download('test_out.xlsx')"
   ]
  }
 ],
 "metadata": {
  "interpreter": {
   "hash": "b31a42de8bf1774fa4351a793c75c59361183357e7142c978d786a9d0619d709"
  },
  "kernelspec": {
   "display_name": "Python 3.9.7 ('py39')",
   "language": "python",
   "name": "python3"
  },
  "language_info": {
   "codemirror_mode": {
    "name": "ipython",
    "version": 3
   },
   "file_extension": ".py",
   "mimetype": "text/x-python",
   "name": "python",
   "nbconvert_exporter": "python",
   "pygments_lexer": "ipython3",
   "version": "3.9.7"
  },
  "orig_nbformat": 4
 },
 "nbformat": 4,
 "nbformat_minor": 2
}
