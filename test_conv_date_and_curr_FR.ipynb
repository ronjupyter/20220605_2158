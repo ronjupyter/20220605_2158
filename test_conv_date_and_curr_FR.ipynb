{
 "cells": [
  {
   "cell_type": "markdown",
   "metadata": {},
   "source": [
    "### imports and load data"
   ]
  },
  {
   "cell_type": "code",
   "execution_count": 2,
   "metadata": {},
   "outputs": [
    {
     "data": {
      "text/html": [
       "<div><div id=8703f28c-c1b7-41ca-a9e5-ea874f26db1f style=\"display:none; background-color:#9D6CFF; color:white; width:200px; height:30px; padding-left:5px; border-radius:4px; flex-direction:row; justify-content:space-around; align-items:center;\" onmouseover=\"this.style.backgroundColor='#BA9BF8'\" onmouseout=\"this.style.backgroundColor='#9D6CFF'\" onclick=\"window.commands?.execute('create-mitosheet-from-dataframe-output');\">See Full Dataframe in Mito</div> <script> if (window.commands?.hasCommand('create-mitosheet-from-dataframe-output')) document.getElementById('8703f28c-c1b7-41ca-a9e5-ea874f26db1f').style.display = 'flex' </script> <table border=\"1\" class=\"dataframe\">\n",
       "  <thead>\n",
       "    <tr style=\"text-align: right;\">\n",
       "      <th></th>\n",
       "      <th>id</th>\n",
       "      <th>DoB</th>\n",
       "      <th>DoT</th>\n",
       "      <th>amt</th>\n",
       "    </tr>\n",
       "  </thead>\n",
       "  <tbody>\n",
       "    <tr>\n",
       "      <th>0</th>\n",
       "      <td>1</td>\n",
       "      <td>1996-02-24 00:00:00</td>\n",
       "      <td>1997-01-30</td>\n",
       "      <td>123.45</td>\n",
       "    </tr>\n",
       "    <tr>\n",
       "      <th>1</th>\n",
       "      <td>2</td>\n",
       "      <td>1997-05-22 00:00:00</td>\n",
       "      <td>2003-08-19</td>\n",
       "      <td>1234.34</td>\n",
       "    </tr>\n",
       "    <tr>\n",
       "      <th>2</th>\n",
       "      <td>3</td>\n",
       "      <td>1999-04-17 00:00:00</td>\n",
       "      <td>1997-08-09</td>\n",
       "      <td>23234.56</td>\n",
       "    </tr>\n",
       "  </tbody>\n",
       "</table></div>"
      ],
      "text/plain": [
       "   id                  DoB        DoT       amt\n",
       "0   1  1996-02-24 00:00:00 1997-01-30    123.45\n",
       "1   2  1997-05-22 00:00:00 2003-08-19   1234.34\n",
       "2   3  1999-04-17 00:00:00 1997-08-09  23234.56"
      ]
     },
     "execution_count": 2,
     "metadata": {},
     "output_type": "execute_result"
    }
   ],
   "source": [
    "import pandas as pd\n",
    "import numpy\n",
    "import datetime\n",
    "import math\n",
    "\n",
    "# import io\n",
    "# from google.colab import files\n",
    "# uploaded = files.upload()\n",
    "# df = pd.read_excel(io.BytesIO(uploaded['<filename>.xlsx']))\n",
    "\n",
    "df = pd.read_excel('test_data.xlsx', sheet_name=\"aio\")\n",
    "\n",
    "df.head(3)"
   ]
  },
  {
   "cell_type": "markdown",
   "metadata": {},
   "source": [
    "### assignments and functions"
   ]
  },
  {
   "cell_type": "code",
   "execution_count": 3,
   "metadata": {},
   "outputs": [],
   "source": [
    "lookup = {1: 'janvier', 2: 'février', 3: 'mars', 4: 'avril', 5: 'mai',\n",
    "            6: 'juin', 7: 'juillet', 8: 'août', 9: 'septembre', 10: 'octobre', 11: 'novembre', 12: 'décembre'}\n",
    "\n",
    "\n",
    "def conv_date(t_date):\n",
    "    if type(t_date) != datetime.datetime and type(t_date) != pd._libs.tslibs.timestamps.Timestamp:\n",
    "        return \"\"\n",
    "    else:\n",
    "        return_str = str(t_date.day) + ' ' + lookup[t_date.month] + ' ' + str(t_date.year)\n",
    "        return return_str\n",
    "\n",
    "\n",
    "def fix_round(num, position=0):\n",
    "    '''fixes rounding error in py - may not be accurate w/ extremely precise numbers such as 0.49999999999999998\n",
    "\n",
    "\tparams:\n",
    "\tnum (float/int)\n",
    "\tposition (int): default is 0\n",
    "\n",
    "\treturns rounded result\n",
    "    \n",
    "    '''\n",
    "\n",
    "    if type(num) != float and type(num) != int and type(num) != numpy.float:\n",
    "        return 0.00\n",
    "\n",
    "    multiplier = 10**position\n",
    "    num = multiplier * num\n",
    "\n",
    "    try:\n",
    "        after_decimal = str(num).split('.')[1]\n",
    "    except:\n",
    "        return (num/multiplier)\n",
    "\n",
    "    if after_decimal == '5':\n",
    "        if num > 0:\n",
    "            x = math.ceil(num) \n",
    "            return (round((x)/multiplier,position))\n",
    "        if num < 0:\n",
    "            x = math.floor(num) \n",
    "            return (round((x)/multiplier,position))\n",
    "    else:\n",
    "        return (round(num/multiplier, position))\n",
    "\n",
    "\n",
    "def conv_curr(t_amt):\n",
    "    t_str = str(fix_round(t_amt, 2))\n",
    "    t_list = t_str.split('.')\n",
    "\n",
    "    before_dec = t_list[0]\n",
    "    \n",
    "    before_dec_list = [before_dec[0:len(before_dec)%3]] + [before_dec[i:i+3] for i in range(len(before_dec)%3, len(before_dec), 3)]\n",
    "\n",
    "    before_dec_str = ' '.join(before_dec_list)\n",
    "    \n",
    "    if len(t_list[1]) == 1:\n",
    "        t_list[1] += '0' \n",
    "\n",
    "    return_str = before_dec_str + ',' + t_list[1] + ' $' \n",
    "    return return_str  "
   ]
  },
  {
   "cell_type": "markdown",
   "metadata": {},
   "source": [
    "### user input"
   ]
  },
  {
   "cell_type": "code",
   "execution_count": 4,
   "metadata": {},
   "outputs": [
    {
     "name": "stderr",
     "output_type": "stream",
     "text": [
      "C:\\Users\\ronal\\AppData\\Local\\Temp/ipykernel_12100/791537914.py:24: DeprecationWarning: `np.float` is a deprecated alias for the builtin `float`. To silence this warning, use `float` by itself. Doing this will not modify any behavior and is safe. If you specifically wanted the numpy scalar type, use `np.float64` here.\n",
      "Deprecated in NumPy 1.20; for more details and guidance: https://numpy.org/devdocs/release/1.20.0-notes.html#deprecations\n",
      "  if type(num) != float and type(num) != int and type(num) != numpy.float:\n"
     ]
    }
   ],
   "source": [
    "curr_col_list_input = ['amt']\n",
    "date_col_list_input = ['DoB', 'DoT']\n",
    "\n",
    "\n",
    "for col in curr_col_list_input:\n",
    "    df[col] = df[col].fillna(0)\n",
    "    df[col] = df[col].apply(conv_curr)\n",
    "    df[col] = df[col].apply(lambda x: x.strip())\n",
    "\n",
    "for col in date_col_list_input:\n",
    "    df[col] = df[col].apply(conv_date)\n"
   ]
  },
  {
   "cell_type": "markdown",
   "metadata": {},
   "source": [
    "### output"
   ]
  },
  {
   "cell_type": "code",
   "execution_count": 6,
   "metadata": {},
   "outputs": [
    {
     "data": {
      "text/html": [
       "<div><div id=83e17d07-5b38-4ae4-82f7-3f692241f57a style=\"display:none; background-color:#9D6CFF; color:white; width:200px; height:30px; padding-left:5px; border-radius:4px; flex-direction:row; justify-content:space-around; align-items:center;\" onmouseover=\"this.style.backgroundColor='#BA9BF8'\" onmouseout=\"this.style.backgroundColor='#9D6CFF'\" onclick=\"window.commands?.execute('create-mitosheet-from-dataframe-output');\">See Full Dataframe in Mito</div> <script> if (window.commands?.hasCommand('create-mitosheet-from-dataframe-output')) document.getElementById('83e17d07-5b38-4ae4-82f7-3f692241f57a').style.display = 'flex' </script> <table border=\"1\" class=\"dataframe\">\n",
       "  <thead>\n",
       "    <tr style=\"text-align: right;\">\n",
       "      <th></th>\n",
       "      <th>id</th>\n",
       "      <th>DoB</th>\n",
       "      <th>DoT</th>\n",
       "      <th>amt</th>\n",
       "    </tr>\n",
       "  </thead>\n",
       "  <tbody>\n",
       "    <tr>\n",
       "      <th>0</th>\n",
       "      <td>1</td>\n",
       "      <td>24 février 1996</td>\n",
       "      <td>30 janvier 1997</td>\n",
       "      <td>123,45 $</td>\n",
       "    </tr>\n",
       "    <tr>\n",
       "      <th>1</th>\n",
       "      <td>2</td>\n",
       "      <td>22 mai 1997</td>\n",
       "      <td>19 août 2003</td>\n",
       "      <td>1 234,34 $</td>\n",
       "    </tr>\n",
       "    <tr>\n",
       "      <th>2</th>\n",
       "      <td>3</td>\n",
       "      <td>17 avril 1999</td>\n",
       "      <td>9 août 1997</td>\n",
       "      <td>23 234,56 $</td>\n",
       "    </tr>\n",
       "    <tr>\n",
       "      <th>3</th>\n",
       "      <td>4</td>\n",
       "      <td></td>\n",
       "      <td>9 août 1999</td>\n",
       "      <td>3 434,34 $</td>\n",
       "    </tr>\n",
       "    <tr>\n",
       "      <th>4</th>\n",
       "      <td>5</td>\n",
       "      <td></td>\n",
       "      <td>15 février 2002</td>\n",
       "      <td>45,30 $</td>\n",
       "    </tr>\n",
       "    <tr>\n",
       "      <th>5</th>\n",
       "      <td>6</td>\n",
       "      <td></td>\n",
       "      <td></td>\n",
       "      <td>1,00 $</td>\n",
       "    </tr>\n",
       "    <tr>\n",
       "      <th>6</th>\n",
       "      <td>7</td>\n",
       "      <td></td>\n",
       "      <td></td>\n",
       "      <td>0,00 $</td>\n",
       "    </tr>\n",
       "    <tr>\n",
       "      <th>7</th>\n",
       "      <td>8</td>\n",
       "      <td></td>\n",
       "      <td></td>\n",
       "      <td>0,00 $</td>\n",
       "    </tr>\n",
       "    <tr>\n",
       "      <th>8</th>\n",
       "      <td>9</td>\n",
       "      <td></td>\n",
       "      <td></td>\n",
       "      <td>0,00 $</td>\n",
       "    </tr>\n",
       "  </tbody>\n",
       "</table></div>"
      ],
      "text/plain": [
       "   id              DoB              DoT          amt\n",
       "0   1  24 février 1996  30 janvier 1997     123,45 $\n",
       "1   2      22 mai 1997     19 août 2003   1 234,34 $\n",
       "2   3    17 avril 1999      9 août 1997  23 234,56 $\n",
       "3   4                       9 août 1999   3 434,34 $\n",
       "4   5                   15 février 2002      45,30 $\n",
       "5   6                                         1,00 $\n",
       "6   7                                         0,00 $\n",
       "7   8                                         0,00 $\n",
       "8   9                                         0,00 $"
      ]
     },
     "execution_count": 6,
     "metadata": {},
     "output_type": "execute_result"
    }
   ],
   "source": [
    "df.to_excel('test_out.xlsx', index=False)\n",
    "\n",
    "# files.download('test_out.xlsx')\n",
    "\n",
    "df"
   ]
  }
 ],
 "metadata": {
  "interpreter": {
   "hash": "b31a42de8bf1774fa4351a793c75c59361183357e7142c978d786a9d0619d709"
  },
  "kernelspec": {
   "display_name": "Python 3.9.7 ('py39')",
   "language": "python",
   "name": "python3"
  },
  "language_info": {
   "codemirror_mode": {
    "name": "ipython",
    "version": 3
   },
   "file_extension": ".py",
   "mimetype": "text/x-python",
   "name": "python",
   "nbconvert_exporter": "python",
   "pygments_lexer": "ipython3",
   "version": "3.9.7"
  },
  "orig_nbformat": 4
 },
 "nbformat": 4,
 "nbformat_minor": 2
}
